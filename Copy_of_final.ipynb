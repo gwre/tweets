{
  "nbformat": 4,
  "nbformat_minor": 0,
  "metadata": {
    "colab": {
      "name": "Copy of final.ipynb",
      "provenance": []
    },
    "kernelspec": {
      "name": "python3",
      "display_name": "Python 3"
    },
    "language_info": {
      "name": "python"
    }
  },
  "cells": [
    {
      "cell_type": "code",
      "source": [
        "!pip install -q snscrape\n",
        "import snscrape.modules.twitter as sntwitter\n",
        "import pandas as pd"
      ],
      "metadata": {
        "id": "mbEm_Yt0w7n_"
      },
      "execution_count": null,
      "outputs": []
    },
    {
      "cell_type": "code",
      "source": [
        "import datetime\n",
        "from datetime import date\n",
        "today=date.today()\n",
        "\n",
        "from dateutil.relativedelta import relativedelta\n",
        "start_date = date.today() - relativedelta(years=1)"
      ],
      "metadata": {
        "id": "Q-4zZfdnL8l6"
      },
      "execution_count": null,
      "outputs": []
    },
    {
      "cell_type": "code",
      "source": [
        "tweets_list = []\n",
        "def make_tweet_list(username,start_date,today):\n",
        "  maxTweets =9223372036854775807\n",
        "\n",
        "  for i,tweet in enumerate(sntwitter.TwitterSearchScraper(f'from:{username} since:{start_date} until:{today}').get_items()):\n",
        "    if i>maxTweets:\n",
        "      break\n",
        "    tweets_list.append(tweet)\n",
        "  return tweets_list"
      ],
      "metadata": {
        "id": "YqiNOqeV2d9U"
      },
      "execution_count": null,
      "outputs": []
    },
    {
      "cell_type": "code",
      "source": [
        "res=make_tweet_list(username)"
      ],
      "metadata": {
        "id": "iaQ1Gs0Bs55Z"
      },
      "execution_count": null,
      "outputs": []
    },
    {
      "cell_type": "code",
      "source": [
        "tweets_df = pd.DataFrame(res)\n",
        "  \n",
        "tw=tweets_df.drop(['url','id','outlinks','outlinksss','tcooutlinks','tcooutlinksss'], axis = 1)\n",
        "\n",
        "final=tw[tw['content'].str.contains('keyword|Keyword')]"
      ],
      "metadata": {
        "id": "7UR9rQT60kgS"
      },
      "execution_count": null,
      "outputs": []
    },
    {
      "cell_type": "code",
      "source": [
        "final"
      ],
      "metadata": {
        "id": "_NEXF2m976_S"
      },
      "execution_count": null,
      "outputs": []
    }
  ]
}